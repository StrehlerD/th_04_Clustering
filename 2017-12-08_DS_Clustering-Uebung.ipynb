{
 "cells": [
  {
   "cell_type": "markdown",
   "metadata": {},
   "source": [
    "# Übungsaufgaben Clusteranalyse"
   ]
  },
  {
   "cell_type": "markdown",
   "metadata": {},
   "source": [
    "### Aufgabe 1: Bewertungskriterien\n",
    "\n",
    "- Wie Sie in den folgenden Codezeilen sehen können, ist beim Vergleich der Labels die Vollständigkeit bei 100 %. Wie kann es dennoch sein, dass dieselben Labels einen v-Measure von 0 haben?"
   ]
  },
  {
   "cell_type": "code",
   "execution_count": 1,
   "metadata": {
    "collapsed": false
   },
   "outputs": [],
   "source": [
    "import sklearn\n",
    "from sklearn import metrics"
   ]
  },
  {
   "cell_type": "code",
   "execution_count": 2,
   "metadata": {
    "collapsed": false
   },
   "outputs": [
    {
     "data": {
      "text/plain": [
       "1.0"
      ]
     },
     "execution_count": 2,
     "metadata": {},
     "output_type": "execute_result"
    }
   ],
   "source": [
    "metrics.completeness_score([1,2,3,4], [0,0,0,0])"
   ]
  },
  {
   "cell_type": "code",
   "execution_count": 3,
   "metadata": {
    "collapsed": false
   },
   "outputs": [
    {
     "data": {
      "text/plain": [
       "0.0"
      ]
     },
     "execution_count": 3,
     "metadata": {},
     "output_type": "execute_result"
    }
   ],
   "source": [
    "metrics.v_measure_score([1,2,3,4], [0,0,0,0])"
   ]
  },
  {
   "cell_type": "markdown",
   "metadata": {},
   "source": [
    "### Aufgabe 2: k-Means \n",
    "- Beschreiben Sie den k-Means-Algorithmus in eignen Worten. Welche Schritte werden wiederholt und wozu?\n",
    "- Erstellen Sie einen Datensatz von n= 100 in dem Intervall Ihrer Wahl. Führen Sie die Clusteranalyse durch und lassen Sie das Ergebnis als Grafik ausgeben. Wie viele Cluster machen Ihrer Meinung nach Sinn? Begründen Sie Ihre Antwort.\n",
    "- Geben Sie für jedes Modell die Inertia aus. Wieso nimmt der Wert mit steigender Anzahl an Clustern ab?"
   ]
  },
  {
   "cell_type": "markdown",
   "metadata": {},
   "source": [
    "### Aufgabe 3: Hierarchische Clusteranalyse"
   ]
  },
  {
   "cell_type": "markdown",
   "metadata": {},
   "source": [
    "- Was ist der Unterschied zwischen dem divisiven und agglomerativen Verfahren?\n",
    "- Verwenden Sie den Datensatz aus Aufgabe 2 und erstellen sie für die Verlinkungen **Average**, **Ward** und **Complete** jeweils ein Dendrogramm.\n",
    "- Was ist im Vergleich zum k-Means Algorithmus ein Nachteil der Hierarchischen Clusteranalyse? Wann sollte man k-Means anstatt der hierarchischen Clusteranalyse verwenden?"
   ]
  }
 ],
 "metadata": {
  "kernelspec": {
   "display_name": "Python 3",
   "language": "python",
   "name": "python3"
  },
  "language_info": {
   "codemirror_mode": {
    "name": "ipython",
    "version": 3
   },
   "file_extension": ".py",
   "mimetype": "text/x-python",
   "name": "python",
   "nbconvert_exporter": "python",
   "pygments_lexer": "ipython3",
   "version": "3.6.0"
  }
 },
 "nbformat": 4,
 "nbformat_minor": 2
}
